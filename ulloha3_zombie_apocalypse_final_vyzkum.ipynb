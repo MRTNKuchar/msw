{
 "cells": [
  {
   "cell_type": "markdown",
   "id": "e4965e86",
   "metadata": {},
   "source": [
    "# 🧟‍♂️ Úloha 3: Model Zombie Apokalypsy (ODE model podle zadání)\n",
    "\n",
    "Tento notebook implementuje model zombie apokalypsy pomocí obyčejných diferenciálních rovnic (ODE).\n",
    "\n",
    "## Populace:\n",
    "- `S` – Susceptibles (živí lidé)\n",
    "- `Z` – Zombies\n",
    "- `R` – Removed (mrtví)\n",
    "\n",
    "## Parametry:\n",
    "- `β` (beta): rychlost přenosu zombismu\n",
    "- `α` (alfa): schopnost člověka zničit zombie\n",
    "- `ζ` (zeta): oživení mrtvých jako zombie"
   ]
  },
  {
   "cell_type": "code",
   "execution_count": null,
   "id": "226e98b5",
   "metadata": {},
   "outputs": [],
   "source": [
    "import numpy as np\n",
    "from scipy.integrate import odeint\n",
    "import matplotlib.pyplot as plt\n",
    "\n",
    "# Parametry\n",
    "beta = 0.0095\n",
    "alpha = 0.005\n",
    "zeta = 0.0001\n",
    "\n",
    "# Počáteční podmínky\n",
    "S0 = 500\n",
    "Z0 = 1\n",
    "R0 = 0\n",
    "y0 = [S0, Z0, R0]\n",
    "\n",
    "# Časová osa\n",
    "t = np.linspace(0, 50, 500)"
   ]
  },
  {
   "cell_type": "code",
   "execution_count": null,
   "id": "0ee2cbdf",
   "metadata": {},
   "outputs": [],
   "source": [
    "# Model\n",
    "def zombie_model(y, t, beta, alpha, zeta):\n",
    "    S, Z, R = y\n",
    "    dSdt = -beta * S * Z\n",
    "    dZdt = beta * S * Z + zeta * R - alpha * S * Z\n",
    "    dRdt = alpha * S * Z - zeta * R\n",
    "    return [dSdt, dZdt, dRdt]\n",
    "\n",
    "# Výpočet\n",
    "solution = odeint(zombie_model, y0, t, args=(beta, alpha, zeta))\n",
    "S, Z, R = solution.T"
   ]
  },
  {
   "cell_type": "code",
   "execution_count": null,
   "id": "53ccc6dd",
   "metadata": {},
   "outputs": [],
   "source": [
    "# Graf\n",
    "plt.figure(figsize=(10,6))\n",
    "plt.plot(t, S, label='Živí (S)', color='blue')\n",
    "plt.plot(t, Z, label='Zombie (Z)', color='red')\n",
    "plt.plot(t, R, label='Mrtví (R)', color='gray')\n",
    "plt.xlabel('Čas (dny)')\n",
    "plt.ylabel('Počet jedinců')\n",
    "plt.title('Zombie Apokalypsa - ODE model')\n",
    "plt.legend()\n",
    "plt.grid(True)\n",
    "plt.show()"
   ]
  },
  {
   "cell_type": "markdown",
   "id": "b1e564df",
   "metadata": {},
   "source": [
    "## Výzkumné otázky a odpovědi:\n",
    "\n",
    "### 1. Jak ovlivňuje různé hodnoty parametru `β` (míra infekce) vývoj epidemie?\n",
    "- `β` určuje rychlost přenosu infekce mezi živými a zombie.\n",
    "- Vyšší `β` → rychlejší růst zombie a rychlý kolaps živé populace.\n",
    "- Nižší `β` → pomalejší šíření, živí mají větší šanci přežít.\n",
    "- Experimentálně: při `β = 0.02` populace živých klesne téměř okamžitě, při `β = 0.002` přetrvá mnohem déle.\n",
    "\n",
    "### 2. Jak ovlivňuje `α` (schopnost zabít zombie) přežití populace?\n",
    "- `α` je obranný parametr – čím vyšší, tím lépe se lidé brání.\n",
    "- Vyšší `α` → zombíci jsou rychle likvidováni, živí přežívají déle nebo zcela.\n",
    "- Při velmi nízké `α` lidé nestačí zombíky likvidovat a rychle mizí.\n",
    "\n",
    "### 3. Co se stane, když odstraníme parametr `ζ` (mrtví se nemohou oživit)?\n",
    "- Pokud `ζ = 0`, mrtví zůstávají mrtvými, nemohou se vrátit jako zombie.\n",
    "- To omezuje přísun nových zombíků → rychlejší kolaps zombie populace.\n",
    "- Výsledkem je stabilizace nebo přežití živých, pokud je `α` dostatečné."
   ]
  },
  {
   "cell_type": "markdown",
   "id": "92cef716",
   "metadata": {},
   "source": [
    "# 🧟‍♂️ Úloha 3: Zombie apokalypsa (ODE model)\n",
    "\n",
    "Tento notebook simuluje zombie apokalypsu pomocí systému obyčejných diferenciálních rovnic (ODE model).\n",
    "Model rozděluje populaci na:\n",
    "- `S(t)` – zdraví (Susceptibles)\n",
    "- `Z(t)` – zombie\n",
    "- `R(t)` – mrtví, kteří se mohou nebo nemusí oživit\n",
    "\n",
    "Parametry určují:\n",
    "- `β` – rychlost infekce\n",
    "- `α` – schopnost zabít zombie\n",
    "- `ζ` – oživení mrtvých jako zombie"
   ]
  },
  {
   "cell_type": "markdown",
   "id": "a9e4a71b",
   "metadata": {},
   "source": [
    "## 🔁 Porovnání: dvě simulace s různou hodnotou beta (míra infekce)"
   ]
  },
  {
   "cell_type": "code",
   "execution_count": null,
   "id": "c2df677b",
   "metadata": {},
   "outputs": [],
   "source": [
    "# Porovnání dvou simulací s různými hodnotami beta\n",
    "params1 = (0.0095, 0.005, 0.0001)\n",
    "params2 = (0.015, 0.005, 0.0001)  # vyšší infekčnost\n",
    "\n",
    "y0 = [500, 1, 0]\n",
    "t_vals = np.linspace(0, 50, 500)\n",
    "sol1 = odeint(zombie_model, y0, t_vals, args=params1)\n",
    "sol2 = odeint(zombie_model, y0, t_vals, args=params2)\n",
    "S1, Z1, R1 = sol1.T\n",
    "S2, Z2, R2 = sol2.T"
   ]
  },
  {
   "cell_type": "code",
   "execution_count": null,
   "id": "a3677cae",
   "metadata": {},
   "outputs": [],
   "source": [
    "# Vykreslení obou simulací\n",
    "plt.figure(figsize=(10,6))\n",
    "plt.plot(t_vals, S1, '--', label='Zdraví (β=0.0095)', color='blue')\n",
    "plt.plot(t_vals, Z1, '--', label='Zombie (β=0.0095)', color='red')\n",
    "plt.plot(t_vals, S2, '-', label='Zdraví (β=0.015)', color='blue')\n",
    "plt.plot(t_vals, Z2, '-', label='Zombie (β=0.015)', color='red')\n",
    "plt.title('Porovnání vlivu beta na šíření zombie infekce')\n",
    "plt.xlabel('Čas (dny)')\n",
    "plt.ylabel('Počet jedinců')\n",
    "plt.legend()\n",
    "plt.grid(True)\n",
    "plt.show()"
   ]
  },
  {
   "cell_type": "markdown",
   "id": "ad88e9ed",
   "metadata": {},
   "source": [
    "## 🧾 Závěr\n",
    "\n",
    "Model zombie apokalypsy je velmi citlivý na změny parametrů. Zvýšení hodnoty β dramaticky zrychluje rozšíření nákazy a snižuje šanci přežití zdravé populace. Pomocí ODE a simulací lze analyzovat chování systému při různých scénářích a parametrech. Model je vhodný i k rozšíření o další mechanismy, např. očkování, uzdravení nebo karanténu."
   ]
  },
  {
   "cell_type": "markdown",
   "id": "ff72057a",
   "metadata": {},
   "source": [
    "## ❓ Výzkumné otázky a odpovědi\n",
    "\n",
    "**Otázka 1: Jak ovlivňuje hodnota parametru `β` (infekčnost) vývoj počtu zdravých a zombie?**\n",
    "- Vyšší `β` znamená, že infekce se šíří rychleji. Zdraví lidé rychle ubývají a zombie populace prudce roste.\n",
    "- Výsledkem je fázová změna systému – při vysokém `β` populace zdravých prakticky zaniká během několika dní.\n",
    "\n",
    "**Otázka 2: Jak ovlivňuje hodnota `α` (schopnost zabít zombie) šanci na přežití?**\n",
    "- Vyšší `α` znamená vyšší šanci, že zdravý člověk zlikviduje zombie.\n",
    "- Tím se zpomaluje šíření epidemie a zvyšuje se šance na zachování zdravé populace.\n",
    "\n",
    "**Otázka 3: Co se stane, když do systému přidáme vakcinaci zdravých osob, která je chrání před nákazou?**\n",
    "- Model by se musel rozšířit o další proměnnou `V(t)` – počet očkovaných.\n",
    "- Rovnice pro `S(t)` by se upravila: část populace by přecházela do `V` místo do `Z`.\n",
    "- To by vedlo k výraznému zpomalení šíření nákazy a ochraně části populace."
   ]
  }
 ],
 "metadata": {
  "kernelspec": {
   "display_name": "Python 3",
   "language": "python",
   "name": "python3"
  },
  "language_info": {
   "name": "python",
   "version": "3.x"
  }
 },
 "nbformat": 4,
 "nbformat_minor": 5
}
