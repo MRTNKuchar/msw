{
 "cells": [
  {
   "cell_type": "markdown",
   "id": "16b9a70d",
   "metadata": {},
   "source": [
    "# 📓 Úloha 2: Úprava ekologického modelu Lotka-Volterra"
   ]
  },
  {
   "cell_type": "markdown",
   "id": "9ff5b668",
   "metadata": {},
   "source": [
    "Tento notebook implementuje a simuluje rozšířený ekologický model Lotka-Volterra se třemi druhy:\n",
    "\n",
    "- `x(t)` – kořist\n",
    "- `y(t)` – predátor\n",
    "- `z(t)` – superpredátor (třetí druh)\n",
    "\n",
    "Model je zapsán pomocí soustavy obyčejných diferenciálních rovnic a vizualizuje vliv přidání třetího druhu na dynamiku populací."
   ]
  },
  {
   "cell_type": "code",
   "execution_count": null,
   "id": "1a6edc46",
   "metadata": {},
   "outputs": [],
   "source": [
    "import numpy as np\n",
    "import matplotlib.pyplot as plt\n",
    "from scipy.integrate import odeint\n",
    "from sympy import symbols, Function, Eq, Derivative, display\n",
    "from sympy.abc import t"
   ]
  },
  {
   "cell_type": "code",
   "execution_count": null,
   "id": "5316985d",
   "metadata": {},
   "outputs": [],
   "source": [
    "# Definice rovnic pomocí sympy\n",
    "x = Function('x')(t)\n",
    "y = Function('y')(t)\n",
    "z = Function('z')(t)\n",
    "alpha, beta, gamma, delta = symbols('alpha beta gamma delta', positive=True)\n",
    "epsilon, eta = symbols('epsilon eta', positive=True)\n",
    "extended_eqs = [\n",
    "    Eq(Derivative(x, t), alpha * x - beta * x * y),\n",
    "    Eq(Derivative(y, t), delta * x * y - gamma * y - epsilon * y * z),\n",
    "    Eq(Derivative(z, t), eta * y * z)\n",
    "]\n",
    "for eq in extended_eqs:\n",
    "    display(eq)"
   ]
  },
  {
   "cell_type": "code",
   "execution_count": null,
   "id": "da068837",
   "metadata": {},
   "outputs": [],
   "source": [
    "# Definice modelu\n",
    "def extended_lotka_volterra(y, t, alpha, beta, gamma, delta, epsilon, eta):\n",
    "    x, y_pred, z_pred = y\n",
    "    dxdt = alpha * x - beta * x * y_pred\n",
    "    dydt = delta * x * y_pred - gamma * y_pred - epsilon * y_pred * z_pred\n",
    "    dzdt = eta * y_pred * z_pred\n",
    "    return dxdt, dydt, dzdt"
   ]
  },
  {
   "cell_type": "code",
   "execution_count": null,
   "id": "0a1e14d3",
   "metadata": {},
   "outputs": [],
   "source": [
    "# Parametry a simulace\n",
    "x0 = 40\n",
    "y0 = 9\n",
    "z0 = 2\n",
    "alpha = 0.6\n",
    "beta = 0.025\n",
    "gamma = 0.5\n",
    "delta = 0.01\n",
    "epsilon = 0.005\n",
    "eta = 0.002\n",
    "t_vals = np.linspace(0, 200, 1000)\n",
    "solution_ext = odeint(extended_lotka_volterra, (x0, y0, z0), t_vals,\n",
    "                      args=(alpha, beta, gamma, delta, epsilon, eta))\n",
    "x_sol, y_sol, z_sol = solution_ext.T"
   ]
  },
  {
   "cell_type": "code",
   "execution_count": null,
   "id": "69d0b69c",
   "metadata": {},
   "outputs": [],
   "source": [
    "# Vizualizace\n",
    "plt.figure(figsize=(10,6))\n",
    "plt.plot(t_vals, x_sol, label='Kořist (x)', color='blue')\n",
    "plt.plot(t_vals, y_sol, label='Predátor (y)', color='red')\n",
    "plt.plot(t_vals, z_sol, label='Superpredátor (z)', color='green')\n",
    "plt.xlabel('Čas (dny)')\n",
    "plt.ylabel('Počet jedinců')\n",
    "plt.title('Rozšířený Lotka-Volterra model se třetím druhem')\n",
    "plt.legend()\n",
    "plt.grid(True)\n",
    "plt.show()"
   ]
  },
  {
   "cell_type": "markdown",
   "id": "39c23161",
   "metadata": {},
   "source": [
    "## 🧪 Výzkumné otázky a odpovědi\n",
    "\n",
    "1. **Jak ovlivňuje zvýšení hodnoty `epsilon` (útok superpredátora na predátora) vývoj systému?**\n",
    "   - Vyšší `ε` oslabuje predátory rychleji, což vede k jejich vyhynutí a následnému přemnožení kořisti nebo poklesu superpredátora (méně potravy).\n",
    "\n",
    "2. **Co se stane, pokud `eta = 0` (superpredátor neroste)?**\n",
    "   - Superpredátor zůstává konstantní nebo vymírá. Systém se redukuje na klasický Lotka-Volterra model bez třetího druhu.\n",
    "\n",
    "3. **Jak změna `alpha` ovlivňuje populaci kořisti a tím i celý ekosystém?**\n",
    "   - Vyšší `α` podporuje rychlý růst kořisti → více potravy → růst predátorů i superpredátorů.\n",
    "   - Nízké `α` → rychlý pokles kořisti → kolaps celého potravního řetězce."
   ]
  },
  {
   "cell_type": "markdown",
   "id": "f2ebf978",
   "metadata": {},
   "source": [
    "## 🧾 Závěr\n",
    "\n",
    "Model ukazuje, že přidáním třetího druhu vzniká složitější dynamika. Systém se stává citlivějším na změnu parametrů. Superpredátor může stabilizovat nebo destabilizovat celý ekosystém v závislosti na intenzitě interakcí a počátečních podmínkách.\n",
    "\n",
    "Notebook obsahuje:\n",
    "- matematické rovnice,\n",
    "- simulační kód,\n",
    "- grafy vývoje populací,\n",
    "- výzkumné otázky a jejich odpovědi.\n",
    "\n",
    "✅ Připraveno k odevzdání podle zadání zápočtové práce."
   ]
  },
  {
   "cell_type": "markdown",
   "id": "9e88eed8",
   "metadata": {},
   "source": [
    "## 📊 Porovnání: model bez třetího druhu"
   ]
  },
  {
   "cell_type": "code",
   "execution_count": null,
   "id": "0da4b402",
   "metadata": {},
   "outputs": [],
   "source": [
    "def basic_lotka_volterra(y, t, alpha, beta, gamma, delta):\n",
    "    x, y_pred = y\n",
    "    dxdt = alpha * x - beta * x * y_pred\n",
    "    dydt = delta * x * y_pred - gamma * y_pred\n",
    "    return dxdt, dydt\n",
    "\n",
    "# Výpočet pro základní model\n",
    "solution_basic = odeint(basic_lotka_volterra, (x0, y0), t_vals, args=(alpha, beta, gamma, delta))\n",
    "x_b, y_b = solution_basic.T"
   ]
  },
  {
   "cell_type": "code",
   "execution_count": null,
   "id": "8f28a9f1",
   "metadata": {},
   "outputs": [],
   "source": [
    "# Porovnání grafů\n",
    "plt.figure(figsize=(10,6))\n",
    "plt.plot(t_vals, x_b, '--', label='Kořist (bez z)', color='blue')\n",
    "plt.plot(t_vals, y_b, '--', label='Predátor (bez z)', color='red')\n",
    "plt.plot(t_vals, x_sol, '-', label='Kořist (se z)', color='blue')\n",
    "plt.plot(t_vals, y_sol, '-', label='Predátor (se z)', color='red')\n",
    "plt.xlabel('Čas (dny)')\n",
    "plt.ylabel('Počet jedinců')\n",
    "plt.title('Porovnání: model bez a se superpredátorem')\n",
    "plt.legend()\n",
    "plt.grid(True)\n",
    "plt.show()"
   ]
  }
 ],
 "metadata": {
  "kernelspec": {
   "display_name": "Python 3",
   "language": "python",
   "name": "python3"
  },
  "language_info": {
   "name": "python",
   "version": "3.x"
  }
 },
 "nbformat": 4,
 "nbformat_minor": 5
}
